{
 "cells": [
  {
   "cell_type": "code",
   "execution_count": 40,
   "id": "0fdf7180",
   "metadata": {},
   "outputs": [],
   "source": [
    "import pandas as pd\n",
    "import numpy as np\n",
    "from sklearn.linear_model import ElasticNet, Lasso\n",
    "from sklearn.metrics import r2_score, mean_squared_error\n",
    "from sklearn.preprocessing import StandardScaler, normalize"
   ]
  },
  {
   "cell_type": "code",
   "execution_count": 41,
   "id": "3728a91e",
   "metadata": {},
   "outputs": [],
   "source": [
    "import warnings\n",
    "warnings.filterwarnings('ignore')"
   ]
  },
  {
   "cell_type": "code",
   "execution_count": 42,
   "id": "59eadc35",
   "metadata": {},
   "outputs": [],
   "source": [
    "macro = pd.read_csv('../data/again1.csv')"
   ]
  },
  {
   "cell_type": "code",
   "execution_count": 43,
   "id": "f5c0eaf2",
   "metadata": {},
   "outputs": [
    {
     "name": "stdout",
     "output_type": "stream",
     "text": [
      "<class 'pandas.core.frame.DataFrame'>\n",
      "RangeIndex: 6086 entries, 0 to 6085\n",
      "Data columns (total 17 columns):\n",
      " #   Column           Non-Null Count  Dtype  \n",
      "---  ------           --------------  -----  \n",
      " 0   target           6086 non-null   float64\n",
      " 1   DTB3             6086 non-null   float64\n",
      " 2   MCUMFN           6086 non-null   float64\n",
      " 3   CPIAUCSL         6086 non-null   float64\n",
      " 4   GEPU_current     6086 non-null   float64\n",
      " 5   IPG211111CN      6086 non-null   float64\n",
      " 6   Killian          6086 non-null   float64\n",
      " 7   IRLTLT01USM156N  6086 non-null   float64\n",
      " 8   M2SL             6086 non-null   float64\n",
      " 9   Close            6086 non-null   float64\n",
      " 10  CFNAI            6086 non-null   float64\n",
      " 11  UNRATE           6086 non-null   float64\n",
      " 12  Imports          6086 non-null   float64\n",
      " 13  Production       6086 non-null   float64\n",
      " 14  Stocks           6086 non-null   float64\n",
      " 15  target_data      6086 non-null   object \n",
      " 16  mean_by_month    6086 non-null   float64\n",
      "dtypes: float64(16), object(1)\n",
      "memory usage: 808.4+ KB\n"
     ]
    }
   ],
   "source": [
    "macro.info()"
   ]
  },
  {
   "cell_type": "code",
   "execution_count": 44,
   "id": "436e83ac",
   "metadata": {},
   "outputs": [],
   "source": [
    "tech = pd.read_csv('../data/technical_dataset.csv')"
   ]
  },
  {
   "cell_type": "code",
   "execution_count": 45,
   "id": "ac2cd958",
   "metadata": {},
   "outputs": [],
   "source": [
    "#macro_date = macro['date']\n",
    "hs = macro['mean_by_month']\n",
    "y = macro['target']\n",
    "macro.drop(columns=['target_data', 'target',  'mean_by_month'], inplace=True)"
   ]
  },
  {
   "cell_type": "code",
   "execution_count": 46,
   "id": "5ba854a4",
   "metadata": {},
   "outputs": [],
   "source": [
    "tech_date = tech['date']\n",
    "tech.drop(columns=['date'], inplace=True)"
   ]
  },
  {
   "cell_type": "markdown",
   "id": "3b8d2439",
   "metadata": {},
   "source": [
    "# Fitting and validation, nothing different from the default parameters"
   ]
  },
  {
   "cell_type": "code",
   "execution_count": 47,
   "id": "ff251aef",
   "metadata": {},
   "outputs": [],
   "source": [
    "data = pd.concat([macro, tech], axis=1)"
   ]
  },
  {
   "cell_type": "code",
   "execution_count": 48,
   "id": "51414364",
   "metadata": {},
   "outputs": [
    {
     "name": "stdout",
     "output_type": "stream",
     "text": [
      "<class 'pandas.core.frame.DataFrame'>\n",
      "RangeIndex: 6086 entries, 0 to 6085\n",
      "Data columns (total 32 columns):\n",
      " #   Column           Non-Null Count  Dtype  \n",
      "---  ------           --------------  -----  \n",
      " 0   DTB3             6086 non-null   float64\n",
      " 1   MCUMFN           6086 non-null   float64\n",
      " 2   CPIAUCSL         6086 non-null   float64\n",
      " 3   GEPU_current     6086 non-null   float64\n",
      " 4   IPG211111CN      6086 non-null   float64\n",
      " 5   Killian          6086 non-null   float64\n",
      " 6   IRLTLT01USM156N  6086 non-null   float64\n",
      " 7   M2SL             6086 non-null   float64\n",
      " 8   Close            6086 non-null   float64\n",
      " 9   CFNAI            6086 non-null   float64\n",
      " 10  UNRATE           6086 non-null   float64\n",
      " 11  Imports          6086 non-null   float64\n",
      " 12  Production       6086 non-null   float64\n",
      " 13  Stocks           6086 non-null   float64\n",
      " 14  MA1_9            6086 non-null   int64  \n",
      " 15  MA2_9            6086 non-null   int64  \n",
      " 16  MA3_9            6086 non-null   int64  \n",
      " 17  MA1_12           6086 non-null   int64  \n",
      " 18  MA2_12           6086 non-null   int64  \n",
      " 19  MA3_12           6086 non-null   int64  \n",
      " 20  MOM(1)           6086 non-null   int64  \n",
      " 21  MOM(2)           6086 non-null   int64  \n",
      " 22  MOM(3)           6086 non-null   int64  \n",
      " 23  MOM(6)           6086 non-null   int64  \n",
      " 24  MOM(9)           6086 non-null   int64  \n",
      " 25  MOM(12)          6086 non-null   int64  \n",
      " 26  OBV1_9           6086 non-null   int64  \n",
      " 27  OBV2_9           6086 non-null   int64  \n",
      " 28  OBV3_9           6086 non-null   int64  \n",
      " 29  OBV1_12          6086 non-null   int64  \n",
      " 30  OBV2_12          6086 non-null   int64  \n",
      " 31  OBV3_12          6086 non-null   int64  \n",
      "dtypes: float64(14), int64(18)\n",
      "memory usage: 1.5 MB\n"
     ]
    }
   ],
   "source": [
    "data.info()"
   ]
  },
  {
   "cell_type": "code",
   "execution_count": 49,
   "id": "e8cc3b62",
   "metadata": {},
   "outputs": [],
   "source": [
    "x_train = data.iloc[:5813]\n",
    "y_train = y.iloc[:5813]\n",
    "x_test = data.iloc[5813:]\n",
    "y_test = y[5813:]\n",
    "hs_test = hs[5813:]"
   ]
  },
  {
   "cell_type": "code",
   "execution_count": 50,
   "id": "f79b07b6",
   "metadata": {},
   "outputs": [],
   "source": [
    "scaler = StandardScaler()\n",
    "scaler.fit(x_train)\n",
    "x_train_sc = scaler.transform(x_train)\n",
    "x_test_sc = scaler.transform(x_test)"
   ]
  },
  {
   "cell_type": "code",
   "execution_count": 51,
   "id": "a82d5639",
   "metadata": {},
   "outputs": [],
   "source": [
    "x_train_norm = normalize(x_train)\n",
    "x_test_norm = normalize(x_test)"
   ]
  },
  {
   "cell_type": "code",
   "execution_count": 117,
   "id": "3821199d",
   "metadata": {},
   "outputs": [],
   "source": [
    "model = ElasticNet()"
   ]
  },
  {
   "cell_type": "code",
   "execution_count": 118,
   "id": "393ef68b",
   "metadata": {
    "scrolled": true
   },
   "outputs": [
    {
     "name": "stdout",
     "output_type": "stream",
     "text": [
      "R2 -20.185265246209823\n",
      "R2OS -212.63894253494874\n",
      "MSE 3712.7160533122697\n"
     ]
    }
   ],
   "source": [
    "model.fit(x_train, y_train)\n",
    "pred = model.predict(x_test)\n",
    "print(\"R2\", r2_score(y_test, pred))\n",
    "print(\"R2OS\", 1 - mean_squared_error(y_test, pred) / mean_squared_error(y_test, hs_test))\n",
    "print(\"MSE\", mean_squared_error(y_test, pred))"
   ]
  },
  {
   "cell_type": "markdown",
   "id": "593f645a",
   "metadata": {},
   "source": [
    "# Fitting with feature selection, ElasticNet selects features for ElasticNet, Lasso selects features for Lasso, we look at non-zero coefficients (we first fit and look at coefficients, and then we fit using features with non-zero coefficients)"
   ]
  },
  {
   "cell_type": "code",
   "execution_count": 119,
   "id": "899bfc2b",
   "metadata": {},
   "outputs": [],
   "source": [
    "coef = model.coef_\n",
    "cols = x_train.columns\n",
    "zipped = list(zip(cols, coef))"
   ]
  },
  {
   "cell_type": "code",
   "execution_count": 120,
   "id": "fbf87ec1",
   "metadata": {},
   "outputs": [],
   "source": [
    "res = sorted(zipped, key = lambda x: x[1])"
   ]
  },
  {
   "cell_type": "code",
   "execution_count": 121,
   "id": "e1ab7cf8",
   "metadata": {
    "scrolled": true
   },
   "outputs": [
    {
     "data": {
      "text/plain": [
       "[('GEPU_current', -0.07907756800421391),\n",
       " ('Production', -0.009644844048295942),\n",
       " ('Stocks', -0.00016312582431190722),\n",
       " ('Killian', 0.03219377431685701),\n",
       " ('CPIAUCSL', 1.7063990547214258),\n",
       " ('MCUMFN', 1.8238739761140597),\n",
       " ('UNRATE', 3.1392394457361945)]"
      ]
     },
     "execution_count": 121,
     "metadata": {},
     "output_type": "execute_result"
    }
   ],
   "source": [
    "res"
   ]
  },
  {
   "cell_type": "code",
   "execution_count": 122,
   "id": "79bfefe2",
   "metadata": {},
   "outputs": [],
   "source": [
    "features = []\n",
    "for i in res:\n",
    "    if i[1] != 0.0:\n",
    "        features.append(i[0])"
   ]
  },
  {
   "cell_type": "code",
   "execution_count": 123,
   "id": "696b6ab6",
   "metadata": {
    "scrolled": true
   },
   "outputs": [],
   "source": [
    "x_train = data[features].iloc[:5813]\n",
    "y_train = y.iloc[:5813]\n",
    "x_test = data[features].iloc[5813:]\n",
    "y_test = y.iloc[5813:]\n",
    "hs_test = hs[5813:]"
   ]
  },
  {
   "cell_type": "code",
   "execution_count": 124,
   "id": "a999f1a7",
   "metadata": {
    "scrolled": true
   },
   "outputs": [],
   "source": [
    "scaler = StandardScaler()\n",
    "scaler.fit(x_train)\n",
    "x_train_sc = scaler.transform(x_train)\n",
    "x_test_sc = scaler.transform(x_test)"
   ]
  },
  {
   "cell_type": "code",
   "execution_count": 125,
   "id": "806f7c0c",
   "metadata": {},
   "outputs": [],
   "source": [
    "x_train_norm = normalize(x_train)\n",
    "x_test_norm = normalize(x_test)"
   ]
  },
  {
   "cell_type": "code",
   "execution_count": 127,
   "id": "157b1dd7",
   "metadata": {},
   "outputs": [
    {
     "name": "stdout",
     "output_type": "stream",
     "text": [
      "R2 -11.860609688144537\n",
      "R2OS -128.69047223147066\n",
      "MSE 2253.8208273365804\n"
     ]
    }
   ],
   "source": [
    "model.fit(x_train_sc, y_train)\n",
    "pred = model.predict(x_test_sc)\n",
    "print(\"R2\", r2_score(y_test, pred))\n",
    "print(\"R2OS\", 1 - mean_squared_error(y_test, pred) / mean_squared_error(y_test, hs_test))\n",
    "print(\"MSE\", mean_squared_error(y_test, pred))"
   ]
  },
  {
   "cell_type": "markdown",
   "id": "3a39e2c4",
   "metadata": {},
   "source": [
    "# Fitting when two sets of features(macro and technical) are used separately"
   ]
  },
  {
   "cell_type": "code",
   "execution_count": 149,
   "id": "f9eab5e5",
   "metadata": {},
   "outputs": [],
   "source": [
    "data = tech"
   ]
  },
  {
   "cell_type": "code",
   "execution_count": 150,
   "id": "261815f7",
   "metadata": {},
   "outputs": [],
   "source": [
    "x_train = data.iloc[:5813]\n",
    "y_train = y.iloc[:5813]\n",
    "x_test = data.iloc[5813:]\n",
    "y_test = y[5813:]\n",
    "hs_test = hs[5813:]"
   ]
  },
  {
   "cell_type": "code",
   "execution_count": 151,
   "id": "d67c1a02",
   "metadata": {},
   "outputs": [],
   "source": [
    "scaler = StandardScaler()\n",
    "scaler.fit(x_train)\n",
    "x_train_sc = scaler.transform(x_train)\n",
    "x_test_sc = scaler.transform(x_test)"
   ]
  },
  {
   "cell_type": "code",
   "execution_count": 152,
   "id": "75a4da4e",
   "metadata": {},
   "outputs": [],
   "source": [
    "x_train_norm = normalize(x_train)\n",
    "x_test_norm = normalize(x_test)"
   ]
  },
  {
   "cell_type": "code",
   "execution_count": 153,
   "id": "ca8fe5df",
   "metadata": {},
   "outputs": [],
   "source": [
    "model = Lasso()"
   ]
  },
  {
   "cell_type": "code",
   "execution_count": 155,
   "id": "fecbeb15",
   "metadata": {},
   "outputs": [
    {
     "name": "stdout",
     "output_type": "stream",
     "text": [
      "R2 -0.8718815395177377\n",
      "R2OS -17.876647896811544\n",
      "MSE 328.0470912635728\n"
     ]
    }
   ],
   "source": [
    "model.fit(x_train, y_train)\n",
    "pred = model.predict(x_test)\n",
    "print(\"R2\", r2_score(y_test, pred))\n",
    "print(\"R2OS\", 1 - mean_squared_error(y_test, pred) / mean_squared_error(y_test, hs_test))\n",
    "print(\"MSE\", mean_squared_error(y_test, pred))"
   ]
  },
  {
   "cell_type": "markdown",
   "id": "8faeec74",
   "metadata": {},
   "source": [
    "# Fitting with economic constraints. An economic constraint that a rational investor will rule out a negative stock return forecast and therefore set the forecast to zero whenever it is negative"
   ]
  },
  {
   "cell_type": "code",
   "execution_count": 33,
   "id": "3762d823",
   "metadata": {},
   "outputs": [],
   "source": [
    "data = pd.concat([macro, tech], axis=1)"
   ]
  },
  {
   "cell_type": "code",
   "execution_count": 156,
   "id": "73513b5d",
   "metadata": {},
   "outputs": [],
   "source": [
    "data['return'] = -0.035"
   ]
  },
  {
   "cell_type": "code",
   "execution_count": 157,
   "id": "876863c2",
   "metadata": {},
   "outputs": [],
   "source": [
    "data['return'].iloc[1:] = y.pct_change().iloc[1:]"
   ]
  },
  {
   "cell_type": "code",
   "execution_count": 158,
   "id": "2c5a8f3c",
   "metadata": {},
   "outputs": [],
   "source": [
    "y = data['return']\n",
    "data.drop(columns = ['return'], inplace=True)"
   ]
  },
  {
   "cell_type": "code",
   "execution_count": 159,
   "id": "7a55f5eb",
   "metadata": {},
   "outputs": [],
   "source": [
    "x_train = data.iloc[:5813]\n",
    "y_train = y.iloc[:5813]\n",
    "x_test = data.iloc[5813:]\n",
    "y_test = y[5813:]\n",
    "hs_test = hs[5813:]"
   ]
  },
  {
   "cell_type": "code",
   "execution_count": 160,
   "id": "6aa9c363",
   "metadata": {},
   "outputs": [],
   "source": [
    "scaler = StandardScaler()\n",
    "scaler.fit(x_train)\n",
    "x_train_sc = scaler.transform(x_train)\n",
    "x_test_sc = scaler.transform(x_test)"
   ]
  },
  {
   "cell_type": "code",
   "execution_count": 161,
   "id": "05c512ea",
   "metadata": {},
   "outputs": [],
   "source": [
    "x_train_norm = normalize(x_train)\n",
    "x_test_norm = normalize(x_test)"
   ]
  },
  {
   "cell_type": "code",
   "execution_count": 164,
   "id": "375798f7",
   "metadata": {},
   "outputs": [],
   "source": [
    "model = Lasso()"
   ]
  },
  {
   "cell_type": "code",
   "execution_count": 165,
   "id": "2dc12699",
   "metadata": {},
   "outputs": [
    {
     "name": "stdout",
     "output_type": "stream",
     "text": [
      "R2 -0.0014418603380992323\n",
      "R2OS 0.9999797882504812\n",
      "MSE 0.041996275086847626\n"
     ]
    }
   ],
   "source": [
    "model.fit(x_train, y_train)\n",
    "pred = model.predict(x_test)\n",
    "pred = [num if num > 0 else 0 for num in pred]\n",
    "print(\"R2\", r2_score(y_test, pred))\n",
    "print(\"R2OS\", 1 - mean_squared_error(y_test, pred) / mean_squared_error(y_test, hs_test))\n",
    "print(\"MSE\", mean_squared_error(y_test, pred))"
   ]
  },
  {
   "cell_type": "code",
   "execution_count": null,
   "id": "18f64fef",
   "metadata": {},
   "outputs": [],
   "source": []
  }
 ],
 "metadata": {
  "kernelspec": {
   "display_name": "Python 3 (ipykernel)",
   "language": "python",
   "name": "python3"
  },
  "language_info": {
   "codemirror_mode": {
    "name": "ipython",
    "version": 3
   },
   "file_extension": ".py",
   "mimetype": "text/x-python",
   "name": "python",
   "nbconvert_exporter": "python",
   "pygments_lexer": "ipython3",
   "version": "3.9.7"
  }
 },
 "nbformat": 4,
 "nbformat_minor": 5
}
